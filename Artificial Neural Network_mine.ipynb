{
 "cells": [
  {
   "cell_type": "markdown",
   "metadata": {},
   "source": [
    "# Artificial Neural Network\n",
    "#### we have classification modelling here. "
   ]
  },
  {
   "cell_type": "markdown",
   "metadata": {},
   "source": [
    "### Importing the libraries"
   ]
  },
  {
   "cell_type": "code",
   "execution_count": 25,
   "metadata": {},
   "outputs": [],
   "source": [
    "import numpy as np\n",
    "import pandas as pd\n",
    "import tensorflow as tf"
   ]
  },
  {
   "cell_type": "markdown",
   "metadata": {},
   "source": [
    "## Part 1 - Data Preprocessing"
   ]
  },
  {
   "cell_type": "markdown",
   "metadata": {},
   "source": [
    "### Importing the dataset"
   ]
  },
  {
   "cell_type": "code",
   "execution_count": 26,
   "metadata": {},
   "outputs": [],
   "source": [
    "dataset = pd.read_csv('Churn_Modelling.csv')\n",
    "X = dataset.iloc[:, 3:-1].values\n",
    "y = dataset.iloc[:, -1].values"
   ]
  },
  {
   "cell_type": "code",
   "execution_count": 27,
   "metadata": {},
   "outputs": [
    {
     "data": {
      "text/html": [
       "<div>\n",
       "<style scoped>\n",
       "    .dataframe tbody tr th:only-of-type {\n",
       "        vertical-align: middle;\n",
       "    }\n",
       "\n",
       "    .dataframe tbody tr th {\n",
       "        vertical-align: top;\n",
       "    }\n",
       "\n",
       "    .dataframe thead th {\n",
       "        text-align: right;\n",
       "    }\n",
       "</style>\n",
       "<table border=\"1\" class=\"dataframe\">\n",
       "  <thead>\n",
       "    <tr style=\"text-align: right;\">\n",
       "      <th></th>\n",
       "      <th>RowNumber</th>\n",
       "      <th>CustomerId</th>\n",
       "      <th>Surname</th>\n",
       "      <th>CreditScore</th>\n",
       "      <th>Geography</th>\n",
       "      <th>Gender</th>\n",
       "      <th>Age</th>\n",
       "      <th>Tenure</th>\n",
       "      <th>Balance</th>\n",
       "      <th>NumOfProducts</th>\n",
       "      <th>HasCrCard</th>\n",
       "      <th>IsActiveMember</th>\n",
       "      <th>EstimatedSalary</th>\n",
       "      <th>Exited</th>\n",
       "    </tr>\n",
       "  </thead>\n",
       "  <tbody>\n",
       "    <tr>\n",
       "      <td>0</td>\n",
       "      <td>1</td>\n",
       "      <td>15634602</td>\n",
       "      <td>Hargrave</td>\n",
       "      <td>619</td>\n",
       "      <td>France</td>\n",
       "      <td>Female</td>\n",
       "      <td>42</td>\n",
       "      <td>2</td>\n",
       "      <td>0.00</td>\n",
       "      <td>1</td>\n",
       "      <td>1</td>\n",
       "      <td>1</td>\n",
       "      <td>101348.88</td>\n",
       "      <td>1</td>\n",
       "    </tr>\n",
       "    <tr>\n",
       "      <td>1</td>\n",
       "      <td>2</td>\n",
       "      <td>15647311</td>\n",
       "      <td>Hill</td>\n",
       "      <td>608</td>\n",
       "      <td>Spain</td>\n",
       "      <td>Female</td>\n",
       "      <td>41</td>\n",
       "      <td>1</td>\n",
       "      <td>83807.86</td>\n",
       "      <td>1</td>\n",
       "      <td>0</td>\n",
       "      <td>1</td>\n",
       "      <td>112542.58</td>\n",
       "      <td>0</td>\n",
       "    </tr>\n",
       "    <tr>\n",
       "      <td>2</td>\n",
       "      <td>3</td>\n",
       "      <td>15619304</td>\n",
       "      <td>Onio</td>\n",
       "      <td>502</td>\n",
       "      <td>France</td>\n",
       "      <td>Female</td>\n",
       "      <td>42</td>\n",
       "      <td>8</td>\n",
       "      <td>159660.80</td>\n",
       "      <td>3</td>\n",
       "      <td>1</td>\n",
       "      <td>0</td>\n",
       "      <td>113931.57</td>\n",
       "      <td>1</td>\n",
       "    </tr>\n",
       "    <tr>\n",
       "      <td>3</td>\n",
       "      <td>4</td>\n",
       "      <td>15701354</td>\n",
       "      <td>Boni</td>\n",
       "      <td>699</td>\n",
       "      <td>France</td>\n",
       "      <td>Female</td>\n",
       "      <td>39</td>\n",
       "      <td>1</td>\n",
       "      <td>0.00</td>\n",
       "      <td>2</td>\n",
       "      <td>0</td>\n",
       "      <td>0</td>\n",
       "      <td>93826.63</td>\n",
       "      <td>0</td>\n",
       "    </tr>\n",
       "    <tr>\n",
       "      <td>4</td>\n",
       "      <td>5</td>\n",
       "      <td>15737888</td>\n",
       "      <td>Mitchell</td>\n",
       "      <td>850</td>\n",
       "      <td>Spain</td>\n",
       "      <td>Female</td>\n",
       "      <td>43</td>\n",
       "      <td>2</td>\n",
       "      <td>125510.82</td>\n",
       "      <td>1</td>\n",
       "      <td>1</td>\n",
       "      <td>1</td>\n",
       "      <td>79084.10</td>\n",
       "      <td>0</td>\n",
       "    </tr>\n",
       "    <tr>\n",
       "      <td>...</td>\n",
       "      <td>...</td>\n",
       "      <td>...</td>\n",
       "      <td>...</td>\n",
       "      <td>...</td>\n",
       "      <td>...</td>\n",
       "      <td>...</td>\n",
       "      <td>...</td>\n",
       "      <td>...</td>\n",
       "      <td>...</td>\n",
       "      <td>...</td>\n",
       "      <td>...</td>\n",
       "      <td>...</td>\n",
       "      <td>...</td>\n",
       "      <td>...</td>\n",
       "    </tr>\n",
       "    <tr>\n",
       "      <td>9995</td>\n",
       "      <td>9996</td>\n",
       "      <td>15606229</td>\n",
       "      <td>Obijiaku</td>\n",
       "      <td>771</td>\n",
       "      <td>France</td>\n",
       "      <td>Male</td>\n",
       "      <td>39</td>\n",
       "      <td>5</td>\n",
       "      <td>0.00</td>\n",
       "      <td>2</td>\n",
       "      <td>1</td>\n",
       "      <td>0</td>\n",
       "      <td>96270.64</td>\n",
       "      <td>0</td>\n",
       "    </tr>\n",
       "    <tr>\n",
       "      <td>9996</td>\n",
       "      <td>9997</td>\n",
       "      <td>15569892</td>\n",
       "      <td>Johnstone</td>\n",
       "      <td>516</td>\n",
       "      <td>France</td>\n",
       "      <td>Male</td>\n",
       "      <td>35</td>\n",
       "      <td>10</td>\n",
       "      <td>57369.61</td>\n",
       "      <td>1</td>\n",
       "      <td>1</td>\n",
       "      <td>1</td>\n",
       "      <td>101699.77</td>\n",
       "      <td>0</td>\n",
       "    </tr>\n",
       "    <tr>\n",
       "      <td>9997</td>\n",
       "      <td>9998</td>\n",
       "      <td>15584532</td>\n",
       "      <td>Liu</td>\n",
       "      <td>709</td>\n",
       "      <td>France</td>\n",
       "      <td>Female</td>\n",
       "      <td>36</td>\n",
       "      <td>7</td>\n",
       "      <td>0.00</td>\n",
       "      <td>1</td>\n",
       "      <td>0</td>\n",
       "      <td>1</td>\n",
       "      <td>42085.58</td>\n",
       "      <td>1</td>\n",
       "    </tr>\n",
       "    <tr>\n",
       "      <td>9998</td>\n",
       "      <td>9999</td>\n",
       "      <td>15682355</td>\n",
       "      <td>Sabbatini</td>\n",
       "      <td>772</td>\n",
       "      <td>Germany</td>\n",
       "      <td>Male</td>\n",
       "      <td>42</td>\n",
       "      <td>3</td>\n",
       "      <td>75075.31</td>\n",
       "      <td>2</td>\n",
       "      <td>1</td>\n",
       "      <td>0</td>\n",
       "      <td>92888.52</td>\n",
       "      <td>1</td>\n",
       "    </tr>\n",
       "    <tr>\n",
       "      <td>9999</td>\n",
       "      <td>10000</td>\n",
       "      <td>15628319</td>\n",
       "      <td>Walker</td>\n",
       "      <td>792</td>\n",
       "      <td>France</td>\n",
       "      <td>Female</td>\n",
       "      <td>28</td>\n",
       "      <td>4</td>\n",
       "      <td>130142.79</td>\n",
       "      <td>1</td>\n",
       "      <td>1</td>\n",
       "      <td>0</td>\n",
       "      <td>38190.78</td>\n",
       "      <td>0</td>\n",
       "    </tr>\n",
       "  </tbody>\n",
       "</table>\n",
       "<p>10000 rows × 14 columns</p>\n",
       "</div>"
      ],
      "text/plain": [
       "      RowNumber  CustomerId    Surname  CreditScore Geography  Gender  Age  \\\n",
       "0             1    15634602   Hargrave          619    France  Female   42   \n",
       "1             2    15647311       Hill          608     Spain  Female   41   \n",
       "2             3    15619304       Onio          502    France  Female   42   \n",
       "3             4    15701354       Boni          699    France  Female   39   \n",
       "4             5    15737888   Mitchell          850     Spain  Female   43   \n",
       "...         ...         ...        ...          ...       ...     ...  ...   \n",
       "9995       9996    15606229   Obijiaku          771    France    Male   39   \n",
       "9996       9997    15569892  Johnstone          516    France    Male   35   \n",
       "9997       9998    15584532        Liu          709    France  Female   36   \n",
       "9998       9999    15682355  Sabbatini          772   Germany    Male   42   \n",
       "9999      10000    15628319     Walker          792    France  Female   28   \n",
       "\n",
       "      Tenure    Balance  NumOfProducts  HasCrCard  IsActiveMember  \\\n",
       "0          2       0.00              1          1               1   \n",
       "1          1   83807.86              1          0               1   \n",
       "2          8  159660.80              3          1               0   \n",
       "3          1       0.00              2          0               0   \n",
       "4          2  125510.82              1          1               1   \n",
       "...      ...        ...            ...        ...             ...   \n",
       "9995       5       0.00              2          1               0   \n",
       "9996      10   57369.61              1          1               1   \n",
       "9997       7       0.00              1          0               1   \n",
       "9998       3   75075.31              2          1               0   \n",
       "9999       4  130142.79              1          1               0   \n",
       "\n",
       "      EstimatedSalary  Exited  \n",
       "0           101348.88       1  \n",
       "1           112542.58       0  \n",
       "2           113931.57       1  \n",
       "3            93826.63       0  \n",
       "4            79084.10       0  \n",
       "...               ...     ...  \n",
       "9995         96270.64       0  \n",
       "9996        101699.77       0  \n",
       "9997         42085.58       1  \n",
       "9998         92888.52       1  \n",
       "9999         38190.78       0  \n",
       "\n",
       "[10000 rows x 14 columns]"
      ]
     },
     "execution_count": 27,
     "metadata": {},
     "output_type": "execute_result"
    }
   ],
   "source": [
    "dataset"
   ]
  },
  {
   "cell_type": "code",
   "execution_count": 28,
   "metadata": {},
   "outputs": [
    {
     "name": "stdout",
     "output_type": "stream",
     "text": [
      "[[619 'France' 'Female' ... 1 1 101348.88]\n",
      " [608 'Spain' 'Female' ... 0 1 112542.58]\n",
      " [502 'France' 'Female' ... 1 0 113931.57]\n",
      " ...\n",
      " [709 'France' 'Female' ... 0 1 42085.58]\n",
      " [772 'Germany' 'Male' ... 1 0 92888.52]\n",
      " [792 'France' 'Female' ... 1 0 38190.78]]\n"
     ]
    }
   ],
   "source": [
    "print(X)"
   ]
  },
  {
   "cell_type": "code",
   "execution_count": 29,
   "metadata": {},
   "outputs": [
    {
     "name": "stdout",
     "output_type": "stream",
     "text": [
      "[1 0 1 ... 1 1 0]\n"
     ]
    }
   ],
   "source": [
    "print(y)"
   ]
  },
  {
   "cell_type": "markdown",
   "metadata": {},
   "source": [
    "### Encoding categorical data"
   ]
  },
  {
   "cell_type": "markdown",
   "metadata": {},
   "source": [
    "Label Encoding the \"Gender\" column"
   ]
  },
  {
   "cell_type": "code",
   "execution_count": 30,
   "metadata": {},
   "outputs": [],
   "source": [
    "from sklearn.preprocessing import LabelEncoder\n",
    "le = LabelEncoder()\n",
    "X[:, 2] = le.fit_transform(X[:, 2])"
   ]
  },
  {
   "cell_type": "code",
   "execution_count": 31,
   "metadata": {},
   "outputs": [
    {
     "name": "stdout",
     "output_type": "stream",
     "text": [
      "[[619 'France' 0 ... 1 1 101348.88]\n",
      " [608 'Spain' 0 ... 0 1 112542.58]\n",
      " [502 'France' 0 ... 1 0 113931.57]\n",
      " ...\n",
      " [709 'France' 0 ... 0 1 42085.58]\n",
      " [772 'Germany' 1 ... 1 0 92888.52]\n",
      " [792 'France' 0 ... 1 0 38190.78]]\n"
     ]
    }
   ],
   "source": [
    "print(X)"
   ]
  },
  {
   "cell_type": "markdown",
   "metadata": {},
   "source": [
    "One Hot Encoding the \"Geography\" column"
   ]
  },
  {
   "cell_type": "code",
   "execution_count": 32,
   "metadata": {},
   "outputs": [],
   "source": [
    "from sklearn.compose import ColumnTransformer\n",
    "from sklearn.preprocessing import OneHotEncoder\n",
    "ct = ColumnTransformer(transformers=[('encoder', OneHotEncoder(), [1])], remainder='passthrough')\n",
    "X = np.array(ct.fit_transform(X))"
   ]
  },
  {
   "cell_type": "code",
   "execution_count": 33,
   "metadata": {},
   "outputs": [
    {
     "name": "stdout",
     "output_type": "stream",
     "text": [
      "[[1.0 0.0 0.0 ... 1 1 101348.88]\n",
      " [0.0 0.0 1.0 ... 0 1 112542.58]\n",
      " [1.0 0.0 0.0 ... 1 0 113931.57]\n",
      " ...\n",
      " [1.0 0.0 0.0 ... 0 1 42085.58]\n",
      " [0.0 1.0 0.0 ... 1 0 92888.52]\n",
      " [1.0 0.0 0.0 ... 1 0 38190.78]]\n"
     ]
    }
   ],
   "source": [
    "print(X)"
   ]
  },
  {
   "cell_type": "markdown",
   "metadata": {},
   "source": [
    "### removing 1st row of dummy var. to avoid dummy variable trap"
   ]
  },
  {
   "cell_type": "code",
   "execution_count": 34,
   "metadata": {},
   "outputs": [
    {
     "name": "stdout",
     "output_type": "stream",
     "text": [
      "[[0.0 0.0 619 ... 1 1 101348.88]\n",
      " [0.0 1.0 608 ... 0 1 112542.58]\n",
      " [0.0 0.0 502 ... 1 0 113931.57]\n",
      " ...\n",
      " [0.0 0.0 709 ... 0 1 42085.58]\n",
      " [1.0 0.0 772 ... 1 0 92888.52]\n",
      " [0.0 0.0 792 ... 1 0 38190.78]]\n"
     ]
    }
   ],
   "source": [
    "X = X[:, 1:]\n",
    "print(X)"
   ]
  },
  {
   "cell_type": "markdown",
   "metadata": {},
   "source": [
    "### Feature Scaling"
   ]
  },
  {
   "cell_type": "code",
   "execution_count": 35,
   "metadata": {},
   "outputs": [],
   "source": [
    "from sklearn.preprocessing import StandardScaler\n",
    "sc = StandardScaler()\n",
    "X = sc.fit_transform(X)"
   ]
  },
  {
   "cell_type": "code",
   "execution_count": 36,
   "metadata": {},
   "outputs": [
    {
     "name": "stdout",
     "output_type": "stream",
     "text": [
      "[[-0.57873591 -0.57380915 -0.32622142 ...  0.64609167  0.97024255\n",
      "   0.02188649]\n",
      " [-0.57873591  1.74273971 -0.44003595 ... -1.54776799  0.97024255\n",
      "   0.21653375]\n",
      " [-0.57873591 -0.57380915 -1.53679418 ...  0.64609167 -1.03067011\n",
      "   0.2406869 ]\n",
      " ...\n",
      " [-0.57873591 -0.57380915  0.60498839 ... -1.54776799  0.97024255\n",
      "  -1.00864308]\n",
      " [ 1.72790383 -0.57380915  1.25683526 ...  0.64609167 -1.03067011\n",
      "  -0.12523071]\n",
      " [-0.57873591 -0.57380915  1.46377078 ...  0.64609167 -1.03067011\n",
      "  -1.07636976]]\n"
     ]
    }
   ],
   "source": [
    "print(X)"
   ]
  },
  {
   "cell_type": "markdown",
   "metadata": {},
   "source": [
    "### Splitting the dataset into the Training set and Test set"
   ]
  },
  {
   "cell_type": "code",
   "execution_count": 37,
   "metadata": {},
   "outputs": [],
   "source": [
    "from sklearn.model_selection import train_test_split\n",
    "X_train, X_test, y_train, y_test = train_test_split(X, y, test_size = 0.2, random_state = 0)"
   ]
  },
  {
   "cell_type": "markdown",
   "metadata": {},
   "source": [
    "## Part 2 - Building the ANN"
   ]
  },
  {
   "cell_type": "markdown",
   "metadata": {},
   "source": [
    "### Initializing the ANN"
   ]
  },
  {
   "cell_type": "code",
   "execution_count": 41,
   "metadata": {},
   "outputs": [],
   "source": [
    "import keras"
   ]
  },
  {
   "cell_type": "code",
   "execution_count": 42,
   "metadata": {},
   "outputs": [],
   "source": [
    "from keras.models import Sequential   # help to intialise ann\n",
    "from keras.layers import Dense        # help to add layer in ann"
   ]
  },
  {
   "cell_type": "code",
   "execution_count": 44,
   "metadata": {},
   "outputs": [],
   "source": [
    "ann = Sequential()"
   ]
  },
  {
   "cell_type": "markdown",
   "metadata": {},
   "source": [
    "### Adding the input layer and the first hidden layer"
   ]
  },
  {
   "cell_type": "code",
   "execution_count": 45,
   "metadata": {},
   "outputs": [],
   "source": [
    "ann.add(Dense(units=6, activation='relu', input_dim=11))"
   ]
  },
  {
   "cell_type": "markdown",
   "metadata": {},
   "source": [
    "### Adding the second hidden layer"
   ]
  },
  {
   "cell_type": "code",
   "execution_count": 46,
   "metadata": {},
   "outputs": [],
   "source": [
    "ann.add(Dense(units=6, activation='relu'))"
   ]
  },
  {
   "cell_type": "markdown",
   "metadata": {},
   "source": [
    "### Adding the output layer"
   ]
  },
  {
   "cell_type": "code",
   "execution_count": 48,
   "metadata": {},
   "outputs": [],
   "source": [
    "ann.add(Dense(units=1, activation='sigmoid'))"
   ]
  },
  {
   "cell_type": "markdown",
   "metadata": {},
   "source": [
    "if we have depend var. with > 2 category say 3 categories.\n",
    "\n",
    "then above we need to change units param(3 in that case)\n",
    "\n",
    "& activation func would be softmax\n",
    "\n",
    "<b>softmax</b>- sigmoid func. applied to depend. var with > 2 category."
   ]
  },
  {
   "cell_type": "markdown",
   "metadata": {},
   "source": [
    "## Training the ANN"
   ]
  },
  {
   "cell_type": "markdown",
   "metadata": {},
   "source": [
    "### Compiling the ANN"
   ]
  },
  {
   "cell_type": "markdown",
   "metadata": {},
   "source": [
    "#### Compiling means appying Stochastic_Gradient_Descent on whole ANN"
   ]
  },
  {
   "cell_type": "code",
   "execution_count": 49,
   "metadata": {},
   "outputs": [],
   "source": [
    "ann.compile(optimizer = 'adam', loss = 'binary_crossentropy', metrics = ['accuracy'])"
   ]
  },
  {
   "cell_type": "markdown",
   "metadata": {},
   "source": [
    "optimizer- algo. to use to find optimal set of wt(s). in ann\n",
    "\n",
    "optimizer = 'adam' mean we apply sto. grad.desc. Their are many other verison of sto. grad desc.\n",
    "\n",
    "loss- loss func. wiithin sto.gard.desc. i.e adam modal. \n",
    "Math of adam modal require loss func. to find optimal wt.\n",
    "\n",
    "loss func for sto.grad. in terms of logistic reg. model- logarithmic loss func required(for sigmoid act. func)\n",
    "\n",
    "if adam algo. we need logarithmic loss func\n",
    "\n",
    "1) if depend var. has binary o/p- then log loss func= binary_crossentropy\n",
    "\n",
    "2) if depend var. dont've  binary o/p- then log loss func= categorical_crossentropy\n",
    "\n",
    "Metric- citerion to evalulate model"
   ]
  },
  {
   "cell_type": "markdown",
   "metadata": {},
   "source": [
    "### Training the ANN on the Training set"
   ]
  },
  {
   "cell_type": "code",
   "execution_count": 50,
   "metadata": {},
   "outputs": [
    {
     "name": "stdout",
     "output_type": "stream",
     "text": [
      "Epoch 1/100\n",
      "8000/8000 [==============================] - 1s 184us/step - loss: 0.5305 - accuracy: 0.7840\n",
      "Epoch 2/100\n",
      "8000/8000 [==============================] - 1s 80us/step - loss: 0.4656 - accuracy: 0.7960\n",
      "Epoch 3/100\n",
      "8000/8000 [==============================] - 1s 80us/step - loss: 0.4457 - accuracy: 0.7958\n",
      "Epoch 4/100\n",
      "8000/8000 [==============================] - 1s 72us/step - loss: 0.4309 - accuracy: 0.8066\n",
      "Epoch 5/100\n",
      "8000/8000 [==============================] - 1s 78us/step - loss: 0.4209 - accuracy: 0.8167\n",
      "Epoch 6/100\n",
      "8000/8000 [==============================] - 1s 80us/step - loss: 0.4127 - accuracy: 0.8210\n",
      "Epoch 7/100\n",
      "8000/8000 [==============================] - 1s 70us/step - loss: 0.4061 - accuracy: 0.8244\n",
      "Epoch 8/100\n",
      "8000/8000 [==============================] - 1s 78us/step - loss: 0.4011 - accuracy: 0.8251\n",
      "Epoch 9/100\n",
      "8000/8000 [==============================] - 1s 79us/step - loss: 0.3967 - accuracy: 0.8264\n",
      "Epoch 10/100\n",
      "8000/8000 [==============================] - 1s 110us/step - loss: 0.3932 - accuracy: 0.8279\n",
      "Epoch 11/100\n",
      "8000/8000 [==============================] - 1s 92us/step - loss: 0.3890 - accuracy: 0.8301\n",
      "Epoch 12/100\n",
      "8000/8000 [==============================] - 1s 73us/step - loss: 0.3853 - accuracy: 0.8300\n",
      "Epoch 13/100\n",
      "8000/8000 [==============================] - 1s 64us/step - loss: 0.3817 - accuracy: 0.8320\n",
      "Epoch 14/100\n",
      "8000/8000 [==============================] - 1s 110us/step - loss: 0.3789 - accuracy: 0.83410s - loss: 0.3827 - \n",
      "Epoch 15/100\n",
      "8000/8000 [==============================] - 1s 114us/step - loss: 0.3757 - accuracy: 0.8393\n",
      "Epoch 16/100\n",
      "8000/8000 [==============================] - 2s 214us/step - loss: 0.3727 - accuracy: 0.8424\n",
      "Epoch 17/100\n",
      "8000/8000 [==============================] - 1s 138us/step - loss: 0.3688 - accuracy: 0.8459\n",
      "Epoch 18/100\n",
      "8000/8000 [==============================] - 1s 138us/step - loss: 0.3639 - accuracy: 0.8506\n",
      "Epoch 19/100\n",
      "8000/8000 [==============================] - 1s 77us/step - loss: 0.3585 - accuracy: 0.8536\n",
      "Epoch 20/100\n",
      "8000/8000 [==============================] - 1s 82us/step - loss: 0.3531 - accuracy: 0.8553\n",
      "Epoch 21/100\n",
      "8000/8000 [==============================] - 1s 69us/step - loss: 0.3492 - accuracy: 0.8577\n",
      "Epoch 22/100\n",
      "8000/8000 [==============================] - 1s 67us/step - loss: 0.3465 - accuracy: 0.8574\n",
      "Epoch 23/100\n",
      "8000/8000 [==============================] - 1s 108us/step - loss: 0.3453 - accuracy: 0.8569\n",
      "Epoch 24/100\n",
      "8000/8000 [==============================] - 1s 70us/step - loss: 0.3444 - accuracy: 0.8583\n",
      "Epoch 25/100\n",
      "8000/8000 [==============================] - 1s 67us/step - loss: 0.3435 - accuracy: 0.8600\n",
      "Epoch 26/100\n",
      "8000/8000 [==============================] - 1s 104us/step - loss: 0.3429 - accuracy: 0.8589\n",
      "Epoch 27/100\n",
      "8000/8000 [==============================] - 1s 100us/step - loss: 0.3420 - accuracy: 0.8596\n",
      "Epoch 28/100\n",
      "8000/8000 [==============================] - 1s 69us/step - loss: 0.3417 - accuracy: 0.8590\n",
      "Epoch 29/100\n",
      "8000/8000 [==============================] - 1s 71us/step - loss: 0.3414 - accuracy: 0.8595\n",
      "Epoch 30/100\n",
      "8000/8000 [==============================] - 1s 69us/step - loss: 0.3413 - accuracy: 0.8599\n",
      "Epoch 31/100\n",
      "8000/8000 [==============================] - 1s 77us/step - loss: 0.3407 - accuracy: 0.8590\n",
      "Epoch 32/100\n",
      "8000/8000 [==============================] - 1s 77us/step - loss: 0.3404 - accuracy: 0.8586\n",
      "Epoch 33/100\n",
      "8000/8000 [==============================] - 1s 72us/step - loss: 0.3401 - accuracy: 0.8593\n",
      "Epoch 34/100\n",
      "8000/8000 [==============================] - 0s 60us/step - loss: 0.3394 - accuracy: 0.8590\n",
      "Epoch 35/100\n",
      "8000/8000 [==============================] - 1s 64us/step - loss: 0.3391 - accuracy: 0.8604\n",
      "Epoch 36/100\n",
      "8000/8000 [==============================] - 1s 146us/step - loss: 0.3389 - accuracy: 0.8599\n",
      "Epoch 37/100\n",
      "8000/8000 [==============================] - 1s 124us/step - loss: 0.3382 - accuracy: 0.8611\n",
      "Epoch 38/100\n",
      "8000/8000 [==============================] - 1s 114us/step - loss: 0.3383 - accuracy: 0.8605\n",
      "Epoch 39/100\n",
      "8000/8000 [==============================] - 1s 81us/step - loss: 0.3378 - accuracy: 0.8600\n",
      "Epoch 40/100\n",
      "8000/8000 [==============================] - 1s 93us/step - loss: 0.3376 - accuracy: 0.8597\n",
      "Epoch 41/100\n",
      "8000/8000 [==============================] - 1s 77us/step - loss: 0.3373 - accuracy: 0.8594\n",
      "Epoch 42/100\n",
      "8000/8000 [==============================] - 1s 79us/step - loss: 0.3372 - accuracy: 0.8593\n",
      "Epoch 43/100\n",
      "8000/8000 [==============================] - 1s 100us/step - loss: 0.3370 - accuracy: 0.8605\n",
      "Epoch 44/100\n",
      "8000/8000 [==============================] - 1s 87us/step - loss: 0.3367 - accuracy: 0.8597\n",
      "Epoch 45/100\n",
      "8000/8000 [==============================] - 1s 77us/step - loss: 0.3363 - accuracy: 0.8619\n",
      "Epoch 46/100\n",
      "8000/8000 [==============================] - 1s 94us/step - loss: 0.3361 - accuracy: 0.8594\n",
      "Epoch 47/100\n",
      "8000/8000 [==============================] - 1s 110us/step - loss: 0.3361 - accuracy: 0.8602\n",
      "Epoch 48/100\n",
      "8000/8000 [==============================] - 1s 96us/step - loss: 0.3356 - accuracy: 0.8612\n",
      "Epoch 49/100\n",
      "8000/8000 [==============================] - 1s 95us/step - loss: 0.3353 - accuracy: 0.8608\n",
      "Epoch 50/100\n",
      "8000/8000 [==============================] - 1s 125us/step - loss: 0.3353 - accuracy: 0.8601\n",
      "Epoch 51/100\n",
      "8000/8000 [==============================] - 1s 77us/step - loss: 0.3350 - accuracy: 0.8615\n",
      "Epoch 52/100\n",
      "8000/8000 [==============================] - 1s 77us/step - loss: 0.3354 - accuracy: 0.8610\n",
      "Epoch 53/100\n",
      "8000/8000 [==============================] - 1s 88us/step - loss: 0.3346 - accuracy: 0.8619\n",
      "Epoch 54/100\n",
      "8000/8000 [==============================] - 1s 110us/step - loss: 0.3348 - accuracy: 0.8610\n",
      "Epoch 55/100\n",
      "8000/8000 [==============================] - 1s 125us/step - loss: 0.3343 - accuracy: 0.8619\n",
      "Epoch 56/100\n",
      "8000/8000 [==============================] - 1s 83us/step - loss: 0.3342 - accuracy: 0.8620\n",
      "Epoch 57/100\n",
      "8000/8000 [==============================] - 1s 77us/step - loss: 0.3339 - accuracy: 0.8616\n",
      "Epoch 58/100\n",
      "8000/8000 [==============================] - 1s 70us/step - loss: 0.3341 - accuracy: 0.8624\n",
      "Epoch 59/100\n",
      "8000/8000 [==============================] - 1s 73us/step - loss: 0.3337 - accuracy: 0.8625\n",
      "Epoch 60/100\n",
      "8000/8000 [==============================] - 1s 81us/step - loss: 0.3335 - accuracy: 0.8615\n",
      "Epoch 61/100\n",
      "8000/8000 [==============================] - 1s 80us/step - loss: 0.3335 - accuracy: 0.8608\n",
      "Epoch 62/100\n",
      "8000/8000 [==============================] - 1s 87us/step - loss: 0.3331 - accuracy: 0.8610\n",
      "Epoch 63/100\n",
      "8000/8000 [==============================] - 1s 105us/step - loss: 0.3333 - accuracy: 0.8622\n",
      "Epoch 64/100\n",
      "8000/8000 [==============================] - 1s 81us/step - loss: 0.3329 - accuracy: 0.8625\n",
      "Epoch 65/100\n",
      "8000/8000 [==============================] - 1s 80us/step - loss: 0.3332 - accuracy: 0.8633\n",
      "Epoch 66/100\n",
      "8000/8000 [==============================] - 1s 75us/step - loss: 0.3328 - accuracy: 0.8610\n",
      "Epoch 67/100\n",
      "8000/8000 [==============================] - 1s 69us/step - loss: 0.3327 - accuracy: 0.8619\n",
      "Epoch 68/100\n",
      "8000/8000 [==============================] - 1s 76us/step - loss: 0.3324 - accuracy: 0.8615\n",
      "Epoch 69/100\n",
      "8000/8000 [==============================] - 1s 74us/step - loss: 0.3325 - accuracy: 0.8612\n",
      "Epoch 70/100\n",
      "8000/8000 [==============================] - 0s 60us/step - loss: 0.3328 - accuracy: 0.8616\n",
      "Epoch 71/100\n",
      "8000/8000 [==============================] - 1s 89us/step - loss: 0.3321 - accuracy: 0.8611\n",
      "Epoch 72/100\n",
      "8000/8000 [==============================] - 1s 93us/step - loss: 0.3321 - accuracy: 0.8616\n",
      "Epoch 73/100\n",
      "8000/8000 [==============================] - 1s 105us/step - loss: 0.3320 - accuracy: 0.8624\n",
      "Epoch 74/100\n",
      "8000/8000 [==============================] - 1s 84us/step - loss: 0.3321 - accuracy: 0.8612\n",
      "Epoch 75/100\n",
      "8000/8000 [==============================] - 1s 76us/step - loss: 0.3322 - accuracy: 0.8618\n",
      "Epoch 76/100\n",
      "8000/8000 [==============================] - 1s 104us/step - loss: 0.3319 - accuracy: 0.8618\n",
      "Epoch 77/100\n",
      "8000/8000 [==============================] - 1s 89us/step - loss: 0.3320 - accuracy: 0.8612\n",
      "Epoch 78/100\n",
      "8000/8000 [==============================] - 1s 70us/step - loss: 0.3313 - accuracy: 0.8627\n",
      "Epoch 79/100\n",
      "8000/8000 [==============================] - 0s 53us/step - loss: 0.3314 - accuracy: 0.8616\n",
      "Epoch 80/100\n",
      "8000/8000 [==============================] - 0s 62us/step - loss: 0.3315 - accuracy: 0.8639\n",
      "Epoch 81/100\n",
      "8000/8000 [==============================] - 1s 129us/step - loss: 0.3313 - accuracy: 0.86340s - loss: 0\n",
      "Epoch 82/100\n",
      "8000/8000 [==============================] - 1s 115us/step - loss: 0.3315 - accuracy: 0.8611\n",
      "Epoch 83/100\n",
      "8000/8000 [==============================] - 0s 62us/step - loss: 0.3312 - accuracy: 0.8625\n",
      "Epoch 84/100\n",
      "8000/8000 [==============================] - 0s 62us/step - loss: 0.3313 - accuracy: 0.8625\n",
      "Epoch 85/100\n",
      "8000/8000 [==============================] - 0s 59us/step - loss: 0.3308 - accuracy: 0.8626\n",
      "Epoch 86/100\n",
      "8000/8000 [==============================] - 1s 87us/step - loss: 0.3312 - accuracy: 0.8627\n",
      "Epoch 87/100\n",
      "8000/8000 [==============================] - 1s 133us/step - loss: 0.3310 - accuracy: 0.8631\n",
      "Epoch 88/100\n",
      "8000/8000 [==============================] - 1s 74us/step - loss: 0.3309 - accuracy: 0.8636 0s - loss: 0.3098 \n",
      "Epoch 89/100\n",
      "8000/8000 [==============================] - 1s 76us/step - loss: 0.3306 - accuracy: 0.8631\n",
      "Epoch 90/100\n",
      "8000/8000 [==============================] - 1s 84us/step - loss: 0.3307 - accuracy: 0.8648\n",
      "Epoch 91/100\n",
      "8000/8000 [==============================] - 1s 101us/step - loss: 0.3311 - accuracy: 0.8625\n",
      "Epoch 92/100\n",
      "8000/8000 [==============================] - 1s 115us/step - loss: 0.3306 - accuracy: 0.8630\n",
      "Epoch 93/100\n",
      "8000/8000 [==============================] - 1s 68us/step - loss: 0.3308 - accuracy: 0.8641\n",
      "Epoch 94/100\n",
      "8000/8000 [==============================] - 1s 75us/step - loss: 0.3304 - accuracy: 0.8630\n",
      "Epoch 95/100\n",
      "8000/8000 [==============================] - 1s 90us/step - loss: 0.3305 - accuracy: 0.8652\n",
      "Epoch 96/100\n",
      "8000/8000 [==============================] - 1s 103us/step - loss: 0.3303 - accuracy: 0.8639\n",
      "Epoch 97/100\n",
      "8000/8000 [==============================] - 1s 127us/step - loss: 0.3299 - accuracy: 0.8641\n",
      "Epoch 98/100\n",
      "8000/8000 [==============================] - 1s 105us/step - loss: 0.3309 - accuracy: 0.8619\n",
      "Epoch 99/100\n",
      "8000/8000 [==============================] - 1s 98us/step - loss: 0.3303 - accuracy: 0.8634\n",
      "Epoch 100/100\n",
      "8000/8000 [==============================] - 1s 100us/step - loss: 0.3301 - accuracy: 0.8629\n"
     ]
    },
    {
     "data": {
      "text/plain": [
       "<keras.callbacks.callbacks.History at 0x24e260f2508>"
      ]
     },
     "execution_count": 50,
     "metadata": {},
     "output_type": "execute_result"
    }
   ],
   "source": [
    "ann.fit(X_train, y_train, batch_size = 32, epochs = 100)"
   ]
  },
  {
   "cell_type": "markdown",
   "metadata": {},
   "source": [
    "## Part 4 - Making the predictions and evaluating the model"
   ]
  },
  {
   "cell_type": "markdown",
   "metadata": {},
   "source": [
    "### Predicting the Test set results"
   ]
  },
  {
   "cell_type": "code",
   "execution_count": 51,
   "metadata": {},
   "outputs": [
    {
     "name": "stdout",
     "output_type": "stream",
     "text": [
      "[[0 0]\n",
      " [0 1]\n",
      " [0 0]\n",
      " ...\n",
      " [0 0]\n",
      " [0 0]\n",
      " [0 0]]\n"
     ]
    }
   ],
   "source": [
    "y_pred = ann.predict(X_test)\n",
    "y_pred = (y_pred > 0.5)\n",
    "print(np.concatenate((y_pred.reshape(len(y_pred),1), y_test.reshape(len(y_test),1)),1))"
   ]
  },
  {
   "cell_type": "code",
   "execution_count": 56,
   "metadata": {},
   "outputs": [
    {
     "name": "stdout",
     "output_type": "stream",
     "text": [
      "[[False]\n",
      " [False]\n",
      " [False]\n",
      " ...\n",
      " [False]\n",
      " [False]\n",
      " [False]]\n"
     ]
    }
   ],
   "source": [
    "print(y_pred)"
   ]
  },
  {
   "cell_type": "markdown",
   "metadata": {},
   "source": [
    "### Making the Confusion Matrix"
   ]
  },
  {
   "cell_type": "code",
   "execution_count": 57,
   "metadata": {},
   "outputs": [
    {
     "name": "stdout",
     "output_type": "stream",
     "text": [
      "[[1522   73]\n",
      " [ 204  201]]\n"
     ]
    }
   ],
   "source": [
    "from sklearn.metrics import confusion_matrix\n",
    "cm = confusion_matrix(y_test, y_pred)\n",
    "print(cm)"
   ]
  },
  {
   "cell_type": "code",
   "execution_count": 58,
   "metadata": {},
   "outputs": [
    {
     "name": "stdout",
     "output_type": "stream",
     "text": [
      "0.8615\n"
     ]
    }
   ],
   "source": [
    "accuracy= (1522 + 201)/(1522 + 201 + 73 + 204)\n",
    "print(accuracy)"
   ]
  }
 ],
 "metadata": {
  "kernelspec": {
   "display_name": "Python 3",
   "language": "python",
   "name": "python3"
  },
  "language_info": {
   "codemirror_mode": {
    "name": "ipython",
    "version": 3
   },
   "file_extension": ".py",
   "mimetype": "text/x-python",
   "name": "python",
   "nbconvert_exporter": "python",
   "pygments_lexer": "ipython3",
   "version": "3.7.4"
  }
 },
 "nbformat": 4,
 "nbformat_minor": 2
}
